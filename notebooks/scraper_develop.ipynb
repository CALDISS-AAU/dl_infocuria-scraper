{
 "cells": [
  {
   "cell_type": "code",
   "execution_count": 6,
   "metadata": {},
   "outputs": [],
   "source": [
    "from bs4 import BeautifulSoup as bs\n",
    "import requests\n",
    "import time\n",
    "import re\n",
    "import random \n",
    "from datetime import datetime\n",
    "import os\n",
    "import json"
   ]
  },
  {
   "cell_type": "code",
   "execution_count": 7,
   "metadata": {},
   "outputs": [],
   "source": [
    "data_path = os.path.join('..', 'data')\n",
    "\n",
    "DOC_HTML_FORMAT = \"http://curia.europa.eu/juris/document/document_print.jsf?docid={}&text=&doclang={}\"\n",
    "DOC_PDF_FORMAT = \"http://curia.europa.eu/juris/showPdf.jsf?docid={}&doclang={}\"\n",
    "RESULTS_FORMAT =\"http://curia.europa.eu/juris/documents.jsf?page={}&cid={}\""
   ]
  },
  {
   "cell_type": "code",
   "execution_count": 8,
   "metadata": {},
   "outputs": [],
   "source": [
    "if os.path.isdir(data_path) == False:\n",
    "    os.mkdir(data_path)"
   ]
  },
  {
   "cell_type": "code",
   "execution_count": 9,
   "metadata": {},
   "outputs": [],
   "source": [
    "SEARCH_URL = \"http://curia.europa.eu/juris/documents.jsf?mat=or&lgrec=en&jur=C%2CT&etat=clot&pcs=Oor&nat=or&td=%3B%3B%3BPUB1%3BNPUB1%3B%3B%3BORDALL\""
   ]
  },
  {
   "cell_type": "code",
   "execution_count": 14,
   "metadata": {},
   "outputs": [],
   "source": [
    "def get_cid(soup):\n",
    "    paginate_link = soup.find('div', class_ = 'pagination').find('a')['href']\n",
    "    cid_re = re.compile('(?<=cid\\=)\\d{5,12}$')\n",
    "    cid = cid_re.findall(paginate_link)[0]\n",
    "    \n",
    "    return(cid)\n",
    "\n",
    "\n",
    "def get_last_page(soup):\n",
    "    paginate_text = soup.find('div', class_ = 'pagination').get_text()\n",
    "    num_re = re.compile('\\d{1,5}(?=\\sPages)')\n",
    "    last_page = num_re.findall(paginate_text)[0]\n",
    "    \n",
    "    return(last_page)\n",
    "\n",
    "\n",
    "def get_docid(row):\n",
    "    num_re = re.compile('\\d*(?=\\w)')\n",
    "    docid = num_re.findall(row.find('td', class_ = 'table_cell_links_eurlex').find('img')['id'])[0]\n",
    "    \n",
    "    return(docid)\n",
    "\n",
    "def get_docids(soup): # Currently only retrieves ids for documents with html\n",
    "    doc_divs = soup.find_all('div', id = 'docHtml')\n",
    "    num_re = re.compile('\\d*(?=\\w)')\n",
    "    \n",
    "    docids = [num_re.findall(div.find('img')['id'])[0] for div in doc_divs]\n",
    "    \n",
    "    return(docids)\n",
    "\n",
    "def get_docurl(docid, docformat, doclang = 'en', in_english = True):\n",
    "    \n",
    "    if in_english == False:\n",
    "        return\n",
    "    \n",
    "    if doclang != 'en':\n",
    "        raise ValueError(\"'{}' is not a valid doc language. Function only supports doclang = 'en'\")\n",
    "    \n",
    "    if docformat == 'docHtml':\n",
    "        docurl = DOC_HTML_FORMAT.format(docid, doclang)\n",
    "    elif docformat == 'docPdf':\n",
    "        docurl = DOC_PDF_FORMAT.format(docid, doclang)\n",
    "    else:\n",
    "        raise ValueError(\"'{}' is not a valid format. Use either 'docHtml' or 'docPdf'.\".format(docformat))\n",
    "    \n",
    "    return(docurl)\n",
    "\n",
    "def get_rowdata(row):\n",
    "    doc_dict = {}\n",
    "\n",
    "    keys = ['case', 'document type', 'document date', 'name of parties', 'subject-matter']\n",
    "    class_suffixes = ['aff', 'doc', 'date', 'nom_usuel', 'links_curia']\n",
    "\n",
    "    for key, class_suf in zip(keys, class_suffixes):\n",
    "        doc_dict[key] = row.find('td', class_ = 'table_cell_{}'.format(class_suf)).get_text(strip = True)\n",
    "\n",
    "    doc_dict['format'] = row.find('td', class_ = 'table_cell_links_eurlex').find('div')['id']\n",
    "    doc_dict['docid'] = get_docid(row)\n",
    "    doc_dict['in english'] = \"English\" in row.find('td', class_ = 'table_cell_links_eurlex').find('div', id = re.compile(doc_dict['docid'])).get_text().split('\\n')\n",
    "    doc_dict['docurl'] = get_docurl(doc_dict['docid'], doc_dict['format'], in_english = doc_dict['in english'])\n",
    "    doc_dict['retrieval date'] = str(datetime.now().date())\n",
    "    \n",
    "    return(doc_dict)\n",
    "\n",
    "def dl_doc(docid, url, docformat, savedir = data_path, with_print = True):\n",
    "    if os.path.isdir(data_path) == False:\n",
    "        os.mkdir(data_path)\n",
    "    \n",
    "    r = requests.get(url)\n",
    "    \n",
    "    if docformat == 'docPdf':\n",
    "        docpdf = r.content\n",
    "        pdf_path = os.path.join(savedir, 'pdf')\n",
    "        if os.path.isdir(pdf_path) == False:\n",
    "            os.mkdir(pdf_path)\n",
    "        \n",
    "        file_path = os.path.join(pdf_path, 'cjeu{}.pdf'.format(docid))\n",
    "        \n",
    "        if os.path.isfile(file_path):\n",
    "            return True\n",
    "        \n",
    "        with open(file_path, 'wb') as f:\n",
    "            f.write(docpdf)\n",
    "            \n",
    "    elif docformat == 'docHtml':\n",
    "        dochtml = r.text\n",
    "        html_path = os.path.join(savedir, 'html')\n",
    "        if os.path.isdir(html_path) == False:\n",
    "            os.mkdir(html_path)\n",
    "        \n",
    "        file_path = os.path.join(html_path, 'cjeu{}.html'.format(docid))\n",
    "        if os.path.isfile(file_path):\n",
    "            return True\n",
    "        \n",
    "        with open(file_path, 'w', encoding = 'utf-8') as f:\n",
    "            f.write(dochtml)\n",
    "    else:\n",
    "        raise ValueError(\"'{}' is not a valid format. Use either 'docHtml' or 'docPdf'.\".format(docformat))\n",
    "    \n",
    "    if with_print:\n",
    "        print('Docid {} succesfully downloaded as {} to path {}'.format(docid, docformat, file_path))"
   ]
  },
  {
   "cell_type": "code",
   "execution_count": 265,
   "metadata": {},
   "outputs": [
    {
     "name": "stdout",
     "output_type": "stream",
     "text": [
      "Retrieving page 1055/1055\r"
     ]
    }
   ],
   "source": [
    "session = requests.session()\n",
    "\n",
    "response = session.get(SEARCH_URL)\n",
    "search_soup = bs(response.content, 'html.parser')\n",
    "\n",
    "last_page = int(get_last_page(search_soup))\n",
    "cid = get_cid(search_soup)\n",
    "\n",
    "docs = list()\n",
    "\n",
    "for pageno in range(1, last_page + 1):\n",
    "    print(\"Retrieving page {}/{}\".format(pageno, last_page), end = \"\\r\")\n",
    "    page_response = session.get(RESULTS_FORMAT.format(pageno, cid))\n",
    "    page_soup = bs(page_response.content, 'html.parser')\n",
    "    \n",
    "    for row in page_soup.find('tbody').find_all('tr', recursive = False):\n",
    "        row_dict = get_rowdata(row)\n",
    "        docs.append(row_dict)\n",
    "        \n",
    "session.close()\n",
    "\n",
    "with open(os.path.join(data_path, 'cjeu_docs.json'), 'w', encoding = 'utf-8') as f:\n",
    "    json.dump(docs, f)"
   ]
  },
  {
   "cell_type": "code",
   "execution_count": 15,
   "metadata": {},
   "outputs": [],
   "source": [
    "with open('../data/cjeu_docs.json', 'r') as f:\n",
    "    docs = json.load(f)"
   ]
  },
  {
   "cell_type": "code",
   "execution_count": null,
   "metadata": {},
   "outputs": [
    {
     "name": "stdout",
     "output_type": "stream",
     "text": [
      "35.37% of documents downloaded\r"
     ]
    }
   ],
   "source": [
    "for c, cjdoc in enumerate(docs, start = 1):\n",
    "    if cjdoc['docurl'] is None:\n",
    "        continue\n",
    "    \n",
    "    file_path_html = os.path.join(data_path, 'html', 'cjeu{}.html'.format(cjdoc['docid']))\n",
    "    file_path_pdf = os.path.join(data_path, 'pdf', 'cjeu{}.pdf'.format(cjdoc['docid']))\n",
    "    \n",
    "    if not (os.path.isfile(file_path_html) or os.path.isfile(file_path_pdf)):\n",
    "        dl_doc(docid = cjdoc['docid'], url = cjdoc['docurl'], docformat = cjdoc['format'], with_print = False)\n",
    "        \n",
    "        sleep_time = random.uniform(0.5, 1.5)\n",
    "        time.sleep(sleep_time)\n",
    "        \n",
    "    print(\"{:.2f}% of documents downloaded\".format(100.0*c/len(docs) + 1), end = \"\\r\")    "
   ]
  },
  {
   "cell_type": "code",
   "execution_count": null,
   "metadata": {},
   "outputs": [],
   "source": [
    "cjdoc"
   ]
  },
  {
   "cell_type": "code",
   "execution_count": null,
   "metadata": {},
   "outputs": [],
   "source": []
  }
 ],
 "metadata": {
  "kernelspec": {
   "display_name": "Python 3",
   "language": "python",
   "name": "python3"
  },
  "language_info": {
   "codemirror_mode": {
    "name": "ipython",
    "version": 3
   },
   "file_extension": ".py",
   "mimetype": "text/x-python",
   "name": "python",
   "nbconvert_exporter": "python",
   "pygments_lexer": "ipython3",
   "version": "3.7.9"
  }
 },
 "nbformat": 4,
 "nbformat_minor": 4
}
